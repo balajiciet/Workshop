{
 "cells": [
  {
   "cell_type": "code",
   "execution_count": null,
   "metadata": {},
   "outputs": [],
   "source": [
    "# necessary imports\n",
    "%matplotlib inline\n",
    "import matplotlib.pyplot as plt\n",
    "import numpy as np\n",
    "import seaborn as sns; sns.set()"
   ]
  },
  {
   "cell_type": "code",
   "execution_count": null,
   "metadata": {},
   "outputs": [],
   "source": [
    "points = np.vstack(((np.random.randn(150, 2) * 0.75 + np.array([1, 0])),\n",
    "                  (np.random.randn(50, 2) * 0.25 + np.array([-0.5, 0.5])),\n",
    "                  (np.random.randn(50, 2) * 0.5 + np.array([-0.5, -0.5]))))"
   ]
  },
  {
   "cell_type": "markdown",
   "metadata": {},
   "source": [
    "# Plot"
   ]
  },
  {
   "cell_type": "code",
   "execution_count": null,
   "metadata": {},
   "outputs": [],
   "source": [
    "plt.scatter(points[:, 0], points[:, 1])\n",
    "ax = plt.gca()\n",
    "ax.add_artist(plt.Circle(np.array([1, 0]), 0.75/2, fill=False, lw=3))\n",
    "ax.add_artist(plt.Circle(np.array([-0.5, 0.5]), 0.25/2, fill=False, lw=3))\n",
    "ax.add_artist(plt.Circle(np.array([-0.5, -0.5]), 0.5/2, fill=False, lw=3))"
   ]
  },
  {
   "cell_type": "markdown",
   "metadata": {},
   "source": [
    "# Initializes k centroids by randomly selecting them from the data points."
   ]
  },
  {
   "cell_type": "code",
   "execution_count": null,
   "metadata": {},
   "outputs": [],
   "source": [
    "def initialize_centroids(points, k):\n",
    "    \"\"\"returns k centroids from the initial points\"\"\"\n",
    "    centroids = points.copy()\n",
    "    np.random.shuffle(centroids)\n",
    "    return centroids[:k]"
   ]
  },
  {
   "cell_type": "code",
   "execution_count": null,
   "metadata": {},
   "outputs": [],
   "source": [
    "initialize_centroids(points, 3)"
   ]
  },
  {
   "cell_type": "markdown",
   "metadata": {},
   "source": [
    "# plot:"
   ]
  },
  {
   "cell_type": "code",
   "execution_count": null,
   "metadata": {},
   "outputs": [],
   "source": [
    "plt.scatter(points[:, 0], points[:, 1])\n",
    "centroids = initialize_centroids(points, 3)\n",
    "plt.scatter(centroids[:, 0], centroids[:, 1], c='r', s=100)"
   ]
  },
  {
   "cell_type": "markdown",
   "metadata": {},
   "source": [
    "# closest centroid"
   ]
  },
  {
   "cell_type": "code",
   "execution_count": null,
   "metadata": {},
   "outputs": [],
   "source": [
    "def closest_centroid(points, centroids):\n",
    "    \"\"\"returns an array containing the index to the nearest centroid for each point\"\"\"\n",
    "    distances = np.sqrt(((points - centroids[:, np.newaxis])**2).sum(axis=2))\n",
    "    return np.argmin(distances, axis=0)"
   ]
  },
  {
   "cell_type": "code",
   "execution_count": null,
   "metadata": {},
   "outputs": [],
   "source": [
    "c = initialize_centroids(points, 3)\n",
    "closest_centroid(points, c)"
   ]
  },
  {
   "cell_type": "code",
   "execution_count": null,
   "metadata": {},
   "outputs": [],
   "source": [
    "c"
   ]
  },
  {
   "cell_type": "code",
   "execution_count": null,
   "metadata": {},
   "outputs": [],
   "source": [
    "c_extended = c[: , np.newaxis, :]\n",
    "c_extended"
   ]
  },
  {
   "cell_type": "code",
   "execution_count": null,
   "metadata": {},
   "outputs": [],
   "source": [
    "c_extended.shape"
   ]
  },
  {
   "cell_type": "code",
   "execution_count": null,
   "metadata": {},
   "outputs": [],
   "source": [
    "p = points[0]\n",
    "p"
   ]
  },
  {
   "cell_type": "code",
   "execution_count": null,
   "metadata": {},
   "outputs": [],
   "source": [
    "c_extended - p"
   ]
  },
  {
   "cell_type": "code",
   "execution_count": null,
   "metadata": {},
   "outputs": [],
   "source": [
    "(c_extended - p).shape"
   ]
  },
  {
   "cell_type": "code",
   "execution_count": null,
   "metadata": {},
   "outputs": [],
   "source": [
    "points[:4] - c_extended"
   ]
  },
  {
   "cell_type": "code",
   "execution_count": null,
   "metadata": {},
   "outputs": [],
   "source": [
    "np.sqrt(((points[:4] - c_extended)**2).sum(axis=2))"
   ]
  },
  {
   "cell_type": "code",
   "execution_count": null,
   "metadata": {},
   "outputs": [],
   "source": [
    "np.argmin(np.sqrt(((points[:4] - c_extended)**2).sum(axis=2)), axis=0)"
   ]
  },
  {
   "cell_type": "code",
   "execution_count": null,
   "metadata": {},
   "outputs": [],
   "source": [
    "def move_centroids(points, closest, centroids):\n",
    "    \"\"\"returns the new centroids assigned from the points closest to them\"\"\"\n",
    "    return np.array([points[closest==k].mean(axis=0) for k in range(centroids.shape[0])])"
   ]
  },
  {
   "cell_type": "code",
   "execution_count": null,
   "metadata": {},
   "outputs": [],
   "source": [
    "move_centroids(points, closest_centroid(points, c), c)"
   ]
  },
  {
   "cell_type": "code",
   "execution_count": null,
   "metadata": {},
   "outputs": [],
   "source": [
    "plt.subplot(121)\n",
    "plt.scatter(points[:, 0], points[:, 1])\n",
    "centroids = initialize_centroids(points, 3)\n",
    "plt.scatter(centroids[:, 0], centroids[:, 1], c='r', s=100)\n",
    "\n",
    "plt.subplot(122)\n",
    "plt.scatter(points[:, 0], points[:, 1])\n",
    "closest = closest_centroid(points, centroids)\n",
    "centroids = move_centroids(points, closest, centroids)\n",
    "plt.scatter(centroids[:, 0], centroids[:, 1], c='r', s=100)"
   ]
  },
  {
   "cell_type": "code",
   "execution_count": null,
   "metadata": {},
   "outputs": [],
   "source": [
    "from JSAnimation import IPython_display\n",
    "from matplotlib import animation\n",
    "\n",
    "# create a simple animation\n",
    "fig = plt.figure()\n",
    "ax = plt.axes(xlim=(-4, 4), ylim=(-4, 4))\n",
    "#ncolors = len(plt.rcParams['axes.prop_cycle'])\n",
    "pts = sum([ax.plot([], [], [], 'o')], [])\n",
    "centroids = initialize_centroids(points, 6)\n",
    "\n",
    "def init():\n",
    "    return pts\n",
    "\n",
    "def animate(i):\n",
    "    global centroids\n",
    "    closest = closest_centroid(points, centroids)\n",
    "    centroids = move_centroids(points, closest, centroids)\n",
    "    ax.cla()\n",
    "    ax.scatter(points[:, 0], points[:, 1], c=closest)\n",
    "    ax.scatter(centroids[:, 0], centroids[:, 1], c='r', s=100)\n",
    "    return pts\n",
    "\n",
    "animation.FuncAnimation(fig, animate, init_func=init,\n",
    "                        frames=100, interval=20, blit=True)"
   ]
  },
  {
   "cell_type": "code",
   "execution_count": null,
   "metadata": {},
   "outputs": [],
   "source": []
  },
  {
   "cell_type": "code",
   "execution_count": null,
   "metadata": {},
   "outputs": [],
   "source": []
  }
 ],
 "metadata": {
  "kernelspec": {
   "display_name": "Python 3",
   "language": "python",
   "name": "python3"
  },
  "language_info": {
   "codemirror_mode": {
    "name": "ipython",
    "version": 3
   },
   "file_extension": ".py",
   "mimetype": "text/x-python",
   "name": "python",
   "nbconvert_exporter": "python",
   "pygments_lexer": "ipython3",
   "version": "3.6.4"
  }
 },
 "nbformat": 4,
 "nbformat_minor": 1
}
